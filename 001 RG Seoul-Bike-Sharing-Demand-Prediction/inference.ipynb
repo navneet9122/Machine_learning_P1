{
 "cells": [
  {
   "cell_type": "code",
   "execution_count": 19,
   "id": "c2d116b9",
   "metadata": {},
   "outputs": [],
   "source": [
    "import pickle \n",
    "import os\n",
    "from datetime import datetime\n",
    "import pandas as pd\n",
    "import numpy as np"
   ]
  },
  {
   "cell_type": "code",
   "execution_count": 2,
   "id": "1a08140d",
   "metadata": {},
   "outputs": [],
   "source": [
    "model_path = r\"E:\\Indian AI Production 4\\Projects\\ML Projects\\001 RG Seoul-Bike-Sharing-Demand-Prediction\\models\\xgboost_regressor_r2_0_928_v1.pkl\"\n",
    "\n",
    "model = pickle.load(open(model_path, \"rb\"))"
   ]
  },
  {
   "cell_type": "code",
   "execution_count": 3,
   "id": "217875d5",
   "metadata": {},
   "outputs": [
    {
     "data": {
      "text/plain": [
       "[0.8012837, 1129.2379]"
      ]
     },
     "execution_count": 3,
     "metadata": {},
     "output_type": "execute_result"
    }
   ],
   "source": [
    "data = [\n",
    "    [ 1.07807977,  0.22192612,  0.77468297,  1.82005277, -1.26200749,\n",
    "       -0.25194272, -0.12916836, -0.17535463, -0.22754885, -5.47803337,\n",
    "       -1.21546253,  1.00873202,  0.30459857,  1.74132735, -0.58152447,\n",
    "       -0.57866842, -0.39840954, -0.40773843, -0.41815465, -0.40773843,\n",
    "       -0.40559398, -0.41815465],\n",
    "    [-0.65432992,  1.24504573,  0.23697162, -0.5001855 ,  0.56154562,\n",
    "       -0.28664608, -0.12916836, -0.17535463, -0.22754885,  0.18254726,\n",
    "        0.94712104,  0.14077827,  0.30459857, -0.57427456,  1.71961809,\n",
    "       -0.57866842, -0.39840954, -0.40773843, -0.41815465, -0.40773843,\n",
    "        2.4655198 , -0.41815465]\n",
    "]\n",
    "\n",
    "\n",
    "prediction = model.predict(data)\n",
    "list(prediction)"
   ]
  },
  {
   "cell_type": "markdown",
   "id": "c5ab0b8b",
   "metadata": {},
   "source": [
    "## Load SC"
   ]
  },
  {
   "cell_type": "code",
   "execution_count": 4,
   "id": "8bbe2a42",
   "metadata": {},
   "outputs": [],
   "source": [
    "sc_dump_path = r\"E:\\Indian AI Production 4\\Projects\\ML Projects\\001 RG Seoul-Bike-Sharing-Demand-Prediction\\models\\sc.pkl\"\n",
    "\n",
    "sc = pickle.load(open(sc_dump_path, \"rb\"))"
   ]
  },
  {
   "cell_type": "code",
   "execution_count": 5,
   "id": "1ab2ad9f",
   "metadata": {},
   "outputs": [
    {
     "data": {
      "text/plain": [
       "StandardScaler()"
      ]
     },
     "execution_count": 5,
     "metadata": {},
     "output_type": "execute_result"
    }
   ],
   "source": [
    "sc"
   ]
  },
  {
   "cell_type": "markdown",
   "id": "d4320ac4",
   "metadata": {},
   "source": [
    "## Users Input"
   ]
  },
  {
   "cell_type": "code",
   "execution_count": 90,
   "id": "fdee3534",
   "metadata": {},
   "outputs": [],
   "source": [
    "date= \"11/06/2023\"\n",
    "hour = 14\n",
    "temperature =25\n",
    "humidity = 91\n",
    "wind_speed = 50\n",
    "visibility = 70\n",
    "solar_radiation = 3\n",
    "rainfall = 30\n",
    "snowfall = 0.0\n",
    "seasons = \"Spring\"\n",
    "holiday = \"Holiday\"\n",
    "functioning_day = \"No\""
   ]
  },
  {
   "cell_type": "markdown",
   "id": "03f8aa6b",
   "metadata": {},
   "source": [
    "## Converting Data into Model Consumable Format  "
   ]
  },
  {
   "cell_type": "code",
   "execution_count": 91,
   "id": "beccef50",
   "metadata": {},
   "outputs": [
    {
     "data": {
      "text/plain": [
       "{'day': 11, 'month': 6, 'year': 2023, 'week_day': 'Sunday'}"
      ]
     },
     "execution_count": 91,
     "metadata": {},
     "output_type": "execute_result"
    }
   ],
   "source": [
    "holiday_dic = {\"No Holiday\": 0, \"Holiday\":1}\n",
    "finctioning_day = {\"No\":0, \"Yes\":1}\n",
    "\n",
    "def get_string_to_datetime(date):\n",
    "    dt = datetime.strptime(date, \"%d/%m/%Y\")\n",
    "    return {\"day\": dt.day, \"month\": dt.month, \"year\": dt.year, \"week_day\": dt.strftime(\"%A\")}\n",
    "\n",
    "str_to_date = get_string_to_datetime(date)\n",
    "str_to_date"
   ]
  },
  {
   "cell_type": "code",
   "execution_count": 92,
   "id": "9b373592",
   "metadata": {},
   "outputs": [
    {
     "data": {
      "text/html": [
       "<div>\n",
       "<style scoped>\n",
       "    .dataframe tbody tr th:only-of-type {\n",
       "        vertical-align: middle;\n",
       "    }\n",
       "\n",
       "    .dataframe tbody tr th {\n",
       "        vertical-align: top;\n",
       "    }\n",
       "\n",
       "    .dataframe thead th {\n",
       "        text-align: right;\n",
       "    }\n",
       "</style>\n",
       "<table border=\"1\" class=\"dataframe\">\n",
       "  <thead>\n",
       "    <tr style=\"text-align: right;\">\n",
       "      <th></th>\n",
       "      <th>Hour</th>\n",
       "      <th>Temperature(°C)</th>\n",
       "      <th>Humidity(%)</th>\n",
       "      <th>Wind speed (m/s)</th>\n",
       "      <th>Visibility (10m)</th>\n",
       "      <th>Solar Radiation (MJ/m2)</th>\n",
       "      <th>Rainfall(mm)</th>\n",
       "      <th>Snowfall (cm)</th>\n",
       "      <th>Holiday</th>\n",
       "      <th>Functioning Day</th>\n",
       "      <th>Day</th>\n",
       "      <th>Month</th>\n",
       "      <th>Year</th>\n",
       "    </tr>\n",
       "  </thead>\n",
       "  <tbody>\n",
       "    <tr>\n",
       "      <th>0</th>\n",
       "      <td>14</td>\n",
       "      <td>25</td>\n",
       "      <td>91</td>\n",
       "      <td>50</td>\n",
       "      <td>70</td>\n",
       "      <td>3</td>\n",
       "      <td>30</td>\n",
       "      <td>0.0</td>\n",
       "      <td>1</td>\n",
       "      <td>0</td>\n",
       "      <td>11</td>\n",
       "      <td>6</td>\n",
       "      <td>2023</td>\n",
       "    </tr>\n",
       "  </tbody>\n",
       "</table>\n",
       "</div>"
      ],
      "text/plain": [
       "   Hour  Temperature(°C)  Humidity(%)  Wind speed (m/s)  Visibility (10m)  \\\n",
       "0    14               25           91                50                70   \n",
       "\n",
       "   Solar Radiation (MJ/m2)  Rainfall(mm)  Snowfall (cm)  Holiday  \\\n",
       "0                        3            30            0.0        1   \n",
       "\n",
       "   Functioning Day  Day  Month  Year  \n",
       "0                0   11      6  2023  "
      ]
     },
     "execution_count": 92,
     "metadata": {},
     "output_type": "execute_result"
    }
   ],
   "source": [
    "u_input_list = [hour, temperature, humidity, wind_speed, visibility, solar_radiation, rainfall, snowfall,\n",
    "               holiday_dic[holiday], finctioning_day[functioning_day], \n",
    "                str_to_date[\"day\"], str_to_date[\"month\"], str_to_date[\"year\"]]\n",
    "\n",
    "features_name = [\"Hour\", 'Temperature(°C)', 'Humidity(%)', 'Wind speed (m/s)', 'Visibility (10m)', 'Solar Radiation (MJ/m2)',\n",
    "       'Rainfall(mm)', 'Snowfall (cm)', 'Holiday', 'Functioning Day', 'Day', 'Month', 'Year',]\n",
    "\n",
    "df_u_input = pd.DataFrame([u_input_list], columns=features_name)\n",
    "df_u_input"
   ]
  },
  {
   "cell_type": "code",
   "execution_count": 93,
   "id": "2dd16bb3",
   "metadata": {},
   "outputs": [
    {
     "data": {
      "text/html": [
       "<div>\n",
       "<style scoped>\n",
       "    .dataframe tbody tr th:only-of-type {\n",
       "        vertical-align: middle;\n",
       "    }\n",
       "\n",
       "    .dataframe tbody tr th {\n",
       "        vertical-align: top;\n",
       "    }\n",
       "\n",
       "    .dataframe thead th {\n",
       "        text-align: right;\n",
       "    }\n",
       "</style>\n",
       "<table border=\"1\" class=\"dataframe\">\n",
       "  <thead>\n",
       "    <tr style=\"text-align: right;\">\n",
       "      <th></th>\n",
       "      <th>Spring</th>\n",
       "      <th>Summer</th>\n",
       "      <th>Winter</th>\n",
       "    </tr>\n",
       "  </thead>\n",
       "  <tbody>\n",
       "    <tr>\n",
       "      <th>0</th>\n",
       "      <td>1</td>\n",
       "      <td>0</td>\n",
       "      <td>0</td>\n",
       "    </tr>\n",
       "  </tbody>\n",
       "</table>\n",
       "</div>"
      ],
      "text/plain": [
       "   Spring  Summer  Winter\n",
       "0       1       0       0"
      ]
     },
     "execution_count": 93,
     "metadata": {},
     "output_type": "execute_result"
    }
   ],
   "source": [
    "def season_to_df(seasons):\n",
    "    seasons_cols = ['Spring', 'Summer', 'Winter']\n",
    "    seasons_data = np.zeros((1, len(seasons_cols)), dtype=\"int\")\n",
    "\n",
    "    df_seasons= pd.DataFrame(seasons_data, columns=seasons_cols)\n",
    "    if seasons in seasons_cols:\n",
    "        df_seasons[seasons]=1\n",
    "    return df_seasons\n",
    "\n",
    "df_seasons = season_to_df(seasons)\n",
    "df_seasons "
   ]
  },
  {
   "cell_type": "code",
   "execution_count": 94,
   "id": "8fe93087",
   "metadata": {},
   "outputs": [
    {
     "data": {
      "text/html": [
       "<div>\n",
       "<style scoped>\n",
       "    .dataframe tbody tr th:only-of-type {\n",
       "        vertical-align: middle;\n",
       "    }\n",
       "\n",
       "    .dataframe tbody tr th {\n",
       "        vertical-align: top;\n",
       "    }\n",
       "\n",
       "    .dataframe thead th {\n",
       "        text-align: right;\n",
       "    }\n",
       "</style>\n",
       "<table border=\"1\" class=\"dataframe\">\n",
       "  <thead>\n",
       "    <tr style=\"text-align: right;\">\n",
       "      <th></th>\n",
       "      <th>Monday</th>\n",
       "      <th>Saturday</th>\n",
       "      <th>Sunday</th>\n",
       "      <th>Thursday</th>\n",
       "      <th>Tuesday</th>\n",
       "      <th>Wednesday</th>\n",
       "    </tr>\n",
       "  </thead>\n",
       "  <tbody>\n",
       "    <tr>\n",
       "      <th>0</th>\n",
       "      <td>0</td>\n",
       "      <td>0</td>\n",
       "      <td>1</td>\n",
       "      <td>0</td>\n",
       "      <td>0</td>\n",
       "      <td>0</td>\n",
       "    </tr>\n",
       "  </tbody>\n",
       "</table>\n",
       "</div>"
      ],
      "text/plain": [
       "   Monday  Saturday  Sunday  Thursday  Tuesday  Wednesday\n",
       "0       0         0       1         0        0          0"
      ]
     },
     "execution_count": 94,
     "metadata": {},
     "output_type": "execute_result"
    }
   ],
   "source": [
    "def days_df(week_day):\n",
    "    days_names = ['Monday', 'Saturday','Sunday', 'Thursday', 'Tuesday', 'Wednesday']\n",
    "    days_name_data = np.zeros((1, len(days_names)), dtype=\"int\")\n",
    "    \n",
    "    df_days = pd.DataFrame(days_name_data, columns=days_names)\n",
    "    \n",
    "    if week_day in days_names:\n",
    "        df_days[week_day]=1\n",
    "    return df_days\n",
    "    \n",
    "df_days = days_df(str_to_date[\"week_day\"])\n",
    "df_days"
   ]
  },
  {
   "cell_type": "code",
   "execution_count": 95,
   "id": "a7c878bc",
   "metadata": {},
   "outputs": [
    {
     "data": {
      "text/plain": [
       "['Hour',\n",
       " 'Temperature(°C)',\n",
       " 'Humidity(%)',\n",
       " 'Wind speed (m/s)',\n",
       " 'Visibility (10m)',\n",
       " 'Solar Radiation (MJ/m2)',\n",
       " 'Rainfall(mm)',\n",
       " 'Snowfall (cm)',\n",
       " 'Holiday',\n",
       " 'Functioning Day',\n",
       " 'Day',\n",
       " 'Month',\n",
       " 'Year',\n",
       " 'Spring',\n",
       " 'Summer',\n",
       " 'Winter',\n",
       " 'Monday',\n",
       " 'Saturday',\n",
       " 'Sunday',\n",
       " 'Thursday',\n",
       " 'Tuesday',\n",
       " 'Wednesday']"
      ]
     },
     "execution_count": 95,
     "metadata": {},
     "output_type": "execute_result"
    }
   ],
   "source": [
    "['Hour', 'Temperature(°C)', 'Humidity(%)',\n",
    "       'Wind speed (m/s)', 'Visibility (10m)', 'Solar Radiation (MJ/m2)',\n",
    "       'Rainfall(mm)', 'Snowfall (cm)', 'Holiday', 'Functioning Day', 'Day',\n",
    "       'Month', 'Year', 'Spring', 'Summer', 'Winter', 'Monday', 'Saturday',\n",
    "       'Sunday', 'Thursday', 'Tuesday', 'Wednesday']"
   ]
  },
  {
   "cell_type": "code",
   "execution_count": 96,
   "id": "bd58c957",
   "metadata": {},
   "outputs": [
    {
     "data": {
      "text/html": [
       "<div>\n",
       "<style scoped>\n",
       "    .dataframe tbody tr th:only-of-type {\n",
       "        vertical-align: middle;\n",
       "    }\n",
       "\n",
       "    .dataframe tbody tr th {\n",
       "        vertical-align: top;\n",
       "    }\n",
       "\n",
       "    .dataframe thead th {\n",
       "        text-align: right;\n",
       "    }\n",
       "</style>\n",
       "<table border=\"1\" class=\"dataframe\">\n",
       "  <thead>\n",
       "    <tr style=\"text-align: right;\">\n",
       "      <th></th>\n",
       "      <th>Hour</th>\n",
       "      <th>Temperature(°C)</th>\n",
       "      <th>Humidity(%)</th>\n",
       "      <th>Wind speed (m/s)</th>\n",
       "      <th>Visibility (10m)</th>\n",
       "      <th>Solar Radiation (MJ/m2)</th>\n",
       "      <th>Rainfall(mm)</th>\n",
       "      <th>Snowfall (cm)</th>\n",
       "      <th>Holiday</th>\n",
       "      <th>Functioning Day</th>\n",
       "      <th>...</th>\n",
       "      <th>Year</th>\n",
       "      <th>Spring</th>\n",
       "      <th>Summer</th>\n",
       "      <th>Winter</th>\n",
       "      <th>Monday</th>\n",
       "      <th>Saturday</th>\n",
       "      <th>Sunday</th>\n",
       "      <th>Thursday</th>\n",
       "      <th>Tuesday</th>\n",
       "      <th>Wednesday</th>\n",
       "    </tr>\n",
       "  </thead>\n",
       "  <tbody>\n",
       "    <tr>\n",
       "      <th>0</th>\n",
       "      <td>14</td>\n",
       "      <td>25</td>\n",
       "      <td>91</td>\n",
       "      <td>50</td>\n",
       "      <td>70</td>\n",
       "      <td>3</td>\n",
       "      <td>30</td>\n",
       "      <td>0.0</td>\n",
       "      <td>1</td>\n",
       "      <td>0</td>\n",
       "      <td>...</td>\n",
       "      <td>2023</td>\n",
       "      <td>1</td>\n",
       "      <td>0</td>\n",
       "      <td>0</td>\n",
       "      <td>0</td>\n",
       "      <td>0</td>\n",
       "      <td>1</td>\n",
       "      <td>0</td>\n",
       "      <td>0</td>\n",
       "      <td>0</td>\n",
       "    </tr>\n",
       "  </tbody>\n",
       "</table>\n",
       "<p>1 rows × 22 columns</p>\n",
       "</div>"
      ],
      "text/plain": [
       "   Hour  Temperature(°C)  Humidity(%)  Wind speed (m/s)  Visibility (10m)  \\\n",
       "0    14               25           91                50                70   \n",
       "\n",
       "   Solar Radiation (MJ/m2)  Rainfall(mm)  Snowfall (cm)  Holiday  \\\n",
       "0                        3            30            0.0        1   \n",
       "\n",
       "   Functioning Day  ...  Year  Spring  Summer  Winter  Monday  Saturday  \\\n",
       "0                0  ...  2023       1       0       0       0         0   \n",
       "\n",
       "   Sunday  Thursday  Tuesday  Wednesday  \n",
       "0       1         0        0          0  \n",
       "\n",
       "[1 rows x 22 columns]"
      ]
     },
     "execution_count": 96,
     "metadata": {},
     "output_type": "execute_result"
    }
   ],
   "source": [
    "df_for_pred = pd.concat([df_u_input, df_seasons, df_days], axis=1)\n",
    "df_for_pred"
   ]
  },
  {
   "cell_type": "code",
   "execution_count": 97,
   "id": "5da7411c",
   "metadata": {},
   "outputs": [
    {
     "data": {
      "text/plain": [
       "array([[ 0.3562424 ,  1.01214045,  1.60569143, 46.67799252, -2.25952072,\n",
       "         2.81352104, 25.27434606, -0.17535463,  4.39466079, -5.47803337,\n",
       "        -0.5325414 , -0.14853965, 18.24263884,  1.74132735, -0.58152447,\n",
       "        -0.57866842, -0.39840954, -0.40773843,  2.39145972, -0.40773843,\n",
       "        -0.40559398, -0.41815465]])"
      ]
     },
     "execution_count": 97,
     "metadata": {},
     "output_type": "execute_result"
    }
   ],
   "source": [
    "sc_data_for_pred = sc.transform(df_for_pred)\n",
    "sc_data_for_pred"
   ]
  },
  {
   "cell_type": "markdown",
   "id": "dd3ba478",
   "metadata": {},
   "source": [
    "## Predictiction in Deploymnet"
   ]
  },
  {
   "cell_type": "code",
   "execution_count": 98,
   "id": "2f18c2a9",
   "metadata": {},
   "outputs": [
    {
     "name": "stdout",
     "output_type": "stream",
     "text": [
      "Rented Bike Demand on date: 11/06/2023, and Time: 14 is : 239\n"
     ]
    }
   ],
   "source": [
    "print(f\"Rented Bike Demand on date: {date}, and Time: {hour} is : {round(model.predict(sc_data_for_pred).tolist()[0])}\")"
   ]
  },
  {
   "cell_type": "code",
   "execution_count": null,
   "id": "cbda2423",
   "metadata": {},
   "outputs": [],
   "source": []
  }
 ],
 "metadata": {
  "kernelspec": {
   "display_name": "Python 3 (ipykernel)",
   "language": "python",
   "name": "python3"
  },
  "language_info": {
   "codemirror_mode": {
    "name": "ipython",
    "version": 3
   },
   "file_extension": ".py",
   "mimetype": "text/x-python",
   "name": "python",
   "nbconvert_exporter": "python",
   "pygments_lexer": "ipython3",
   "version": "3.10.9"
  }
 },
 "nbformat": 4,
 "nbformat_minor": 5
}
